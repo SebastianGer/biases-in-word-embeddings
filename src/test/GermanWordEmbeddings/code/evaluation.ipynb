{
 "cells": [
  {
   "cell_type": "markdown",
   "metadata": {},
   "source": [
    "# Evaluating language models\n",
    "##### See [evaluation.py](https://github.com/devmount/GermanWordEmbeddings/blob/master/evaluation.py) from [GermanWordEmbeddings](https://devmount.github.io/GermanWordEmbeddings/)\n",
    "\n",
    "The following code gives an example of how to evaluate trained language models with the evaluation script. You need [gensim](https://radimrehurek.com/gensim/install.html) for this script to work."
   ]
  },
  {
   "cell_type": "markdown",
   "metadata": {},
   "source": [
    "### General usage\n",
    "The usage of the script can be seen with the default `-h` or `--help` flag:"
   ]
  },
  {
   "cell_type": "code",
   "execution_count": 2,
   "metadata": {
    "collapsed": false
   },
   "outputs": [
    {
     "name": "stdout",
     "output_type": "stream",
     "text": [
      "usage: evaluation.py [-h] [-c] [-u] [-t TOPN] model\n",
      "\n",
      "Script for creating testsets and evaluating word vector models\n",
      "\n",
      "positional arguments:\n",
      "  model                 source file with trained model\n",
      "\n",
      "optional arguments:\n",
      "  -h, --help            show this help message and exit\n",
      "  -c, --create          if set, create testsets before evaluating\n",
      "  -u, --umlauts         if set, create additional testsets with transformed umlauts and use them instead\n",
      "  -t TOPN, --topn TOPN  check the top n result (correct answer under top n answeres)\n"
     ]
    }
   ],
   "source": [
    "%%bash\n",
    "python evaluation.py --help"
   ]
  },
  {
   "cell_type": "code",
   "execution_count": null,
   "metadata": {
    "collapsed": true
   },
   "outputs": [],
   "source": []
  }
 ],
 "metadata": {
  "kernelspec": {
   "display_name": "Python 2",
   "language": "python",
   "name": "python2"
  },
  "language_info": {
   "codemirror_mode": {
    "name": "ipython",
    "version": 2
   },
   "file_extension": ".py",
   "mimetype": "text/x-python",
   "name": "python",
   "nbconvert_exporter": "python",
   "pygments_lexer": "ipython2",
   "version": "2.7.6"
  }
 },
 "nbformat": 4,
 "nbformat_minor": 0
}
