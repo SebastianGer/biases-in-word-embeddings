{
 "cells": [
  {
   "cell_type": "markdown",
   "metadata": {},
   "source": [
    "# Interactive exploration of word2vec models"
   ]
  },
  {
   "cell_type": "code",
   "execution_count": 1,
   "metadata": {
    "collapsed": true
   },
   "outputs": [],
   "source": [
    "import os\n",
    "os.chdir(\"../\") # set working directory to the code's root directory\n",
    "from gensim.models import KeyedVectors\n",
    "\n",
    "corpusPath = \"news.2007.de.shuffled\" # enter your corpus here. model has to be trained first using the training notebook\n",
    "modelPath = 'models/word2vec/'+corpusPath"
   ]
  },
  {
   "cell_type": "code",
   "execution_count": 2,
   "metadata": {
    "collapsed": false
   },
   "outputs": [],
   "source": [
    "# Load model. This may take around 10 minutes, depending on the size of the model. \n",
    "model = KeyedVectors.load_word2vec_format(modelPath)"
   ]
  },
  {
   "cell_type": "code",
   "execution_count": 4,
   "metadata": {
    "collapsed": false
   },
   "outputs": [
    {
     "data": {
      "text/plain": [
       "[(u'professor', 0.45763614773750305),\n",
       " (u'goethe', 0.45712122321128845),\n",
       " (u'studierte', 0.4545615017414093),\n",
       " (u'dr', 0.4431982636451721),\n",
       " (u'student', 0.42709749937057495),\n",
       " (u'marcuse', 0.4238448441028595),\n",
       " (u'arzt', 0.409005343914032),\n",
       " (u'fontane', 0.40828847885131836),\n",
       " (u'autor', 0.40631791949272156),\n",
       " (u'rousseau', 0.40553712844848633)]"
      ]
     },
     "execution_count": 4,
     "metadata": {},
     "output_type": "execute_result"
    }
   ],
   "source": [
    "# Get most similar words\n",
    "model.most_similar(positive=['doktor'])"
   ]
  },
  {
   "cell_type": "code",
   "execution_count": 5,
   "metadata": {
    "collapsed": false
   },
   "outputs": [
    {
     "data": {
      "text/plain": [
       "[(u'abdallah', 0.4784207344055176),\n",
       " (u'abdullah', 0.46630042791366577),\n",
       " (u'koenigin', 0.416374146938324),\n",
       " (u'koenigs', 0.3987473249435425),\n",
       " (u'monarch', 0.3972976803779602),\n",
       " (u'ehefrau', 0.3862464725971222),\n",
       " (u'saudiarabische', 0.3854582905769348),\n",
       " (u'juan', 0.38467007875442505),\n",
       " (u'hochzeit', 0.3813067376613617),\n",
       " (u'witwe', 0.3784661889076233)]"
      ]
     },
     "execution_count": 5,
     "metadata": {},
     "output_type": "execute_result"
    }
   ],
   "source": [
    "# Get the closest vectors to 'king - man + woman'\n",
    "# Both positive and negative sets can be empty or contain an arbitrary number of words\n",
    "model.most_similar(positive=['koenig', 'frau'], negative=['mann'])"
   ]
  },
  {
   "cell_type": "code",
   "execution_count": 7,
   "metadata": {
    "collapsed": false
   },
   "outputs": [
    {
     "data": {
      "text/plain": [
       "'muesli'"
      ]
     },
     "execution_count": 7,
     "metadata": {},
     "output_type": "execute_result"
    }
   ],
   "source": [
    "# Find the odd one out\n",
    "# List can have abritrary length\n",
    "model.doesnt_match([\"fruehstueck\",\"muesli\",\"abendessen\", \"mittagessen\"])"
   ]
  }
 ],
 "metadata": {
  "kernelspec": {
   "display_name": "Python 2",
   "language": "python",
   "name": "python2"
  },
  "language_info": {
   "codemirror_mode": {
    "name": "ipython",
    "version": 2
   },
   "file_extension": ".py",
   "mimetype": "text/x-python",
   "name": "python",
   "nbconvert_exporter": "python",
   "pygments_lexer": "ipython2",
   "version": "2.7.12"
  }
 },
 "nbformat": 4,
 "nbformat_minor": 1
}
